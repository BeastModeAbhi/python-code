{
 "cells": [
  {
   "cell_type": "code",
   "execution_count": 13,
   "id": "891de941",
   "metadata": {},
   "outputs": [
    {
     "data": {
      "text/html": [
       "<div>\n",
       "<style scoped>\n",
       "    .dataframe tbody tr th:only-of-type {\n",
       "        vertical-align: middle;\n",
       "    }\n",
       "\n",
       "    .dataframe tbody tr th {\n",
       "        vertical-align: top;\n",
       "    }\n",
       "\n",
       "    .dataframe thead th {\n",
       "        text-align: right;\n",
       "    }\n",
       "</style>\n",
       "<table border=\"1\" class=\"dataframe\">\n",
       "  <thead>\n",
       "    <tr style=\"text-align: right;\">\n",
       "      <th></th>\n",
       "      <th>sepal-length</th>\n",
       "      <th>sepal-width</th>\n",
       "      <th>petal-length</th>\n",
       "      <th>petal-width</th>\n",
       "      <th>Class</th>\n",
       "    </tr>\n",
       "  </thead>\n",
       "  <tbody>\n",
       "    <tr>\n",
       "      <th>0</th>\n",
       "      <td>5.1</td>\n",
       "      <td>3.5</td>\n",
       "      <td>1.4</td>\n",
       "      <td>0.2</td>\n",
       "      <td>Iris-setosa</td>\n",
       "    </tr>\n",
       "    <tr>\n",
       "      <th>1</th>\n",
       "      <td>4.9</td>\n",
       "      <td>3.0</td>\n",
       "      <td>1.4</td>\n",
       "      <td>0.2</td>\n",
       "      <td>Iris-setosa</td>\n",
       "    </tr>\n",
       "    <tr>\n",
       "      <th>2</th>\n",
       "      <td>4.7</td>\n",
       "      <td>3.2</td>\n",
       "      <td>1.3</td>\n",
       "      <td>0.2</td>\n",
       "      <td>Iris-setosa</td>\n",
       "    </tr>\n",
       "    <tr>\n",
       "      <th>3</th>\n",
       "      <td>4.6</td>\n",
       "      <td>3.1</td>\n",
       "      <td>1.5</td>\n",
       "      <td>0.2</td>\n",
       "      <td>Iris-setosa</td>\n",
       "    </tr>\n",
       "    <tr>\n",
       "      <th>4</th>\n",
       "      <td>5.0</td>\n",
       "      <td>3.6</td>\n",
       "      <td>1.4</td>\n",
       "      <td>0.2</td>\n",
       "      <td>Iris-setosa</td>\n",
       "    </tr>\n",
       "  </tbody>\n",
       "</table>\n",
       "</div>"
      ],
      "text/plain": [
       "   sepal-length  sepal-width  petal-length  petal-width        Class\n",
       "0           5.1          3.5           1.4          0.2  Iris-setosa\n",
       "1           4.9          3.0           1.4          0.2  Iris-setosa\n",
       "2           4.7          3.2           1.3          0.2  Iris-setosa\n",
       "3           4.6          3.1           1.5          0.2  Iris-setosa\n",
       "4           5.0          3.6           1.4          0.2  Iris-setosa"
      ]
     },
     "execution_count": 13,
     "metadata": {},
     "output_type": "execute_result"
    }
   ],
   "source": [
    "import numpy as np\n",
    "import matplotlib.pyplot as plt\n",
    "import pandas as pd\n",
    "\n",
    "url = \"https://archive.ics.uci.edu/ml/machine-learning-databases/iris/iris.data\"\n",
    "\n",
    "# Assign colum names to the dataset\n",
    "names = ['sepal-length', 'sepal-width', 'petal-length', 'petal-width', 'Class']\n",
    "\n",
    "# Read dataset to pandas dataframe\n",
    "dataset = pd.read_csv(url, names=names)\n",
    "\n",
    "dataset.head()"
   ]
  },
  {
   "cell_type": "code",
   "execution_count": 14,
   "id": "4f01c1c2",
   "metadata": {},
   "outputs": [
    {
     "name": "stdout",
     "output_type": "stream",
     "text": [
      "<class 'pandas.core.frame.DataFrame'>\n",
      "RangeIndex: 150 entries, 0 to 149\n",
      "Data columns (total 5 columns):\n",
      " #   Column        Non-Null Count  Dtype  \n",
      "---  ------        --------------  -----  \n",
      " 0   sepal-length  150 non-null    float64\n",
      " 1   sepal-width   150 non-null    float64\n",
      " 2   petal-length  150 non-null    float64\n",
      " 3   petal-width   150 non-null    float64\n",
      " 4   Class         150 non-null    object \n",
      "dtypes: float64(4), object(1)\n",
      "memory usage: 6.0+ KB\n"
     ]
    }
   ],
   "source": [
    "dataset.info()"
   ]
  },
  {
   "cell_type": "code",
   "execution_count": 15,
   "id": "5db87189",
   "metadata": {},
   "outputs": [
    {
     "data": {
      "text/html": [
       "<div>\n",
       "<style scoped>\n",
       "    .dataframe tbody tr th:only-of-type {\n",
       "        vertical-align: middle;\n",
       "    }\n",
       "\n",
       "    .dataframe tbody tr th {\n",
       "        vertical-align: top;\n",
       "    }\n",
       "\n",
       "    .dataframe thead th {\n",
       "        text-align: right;\n",
       "    }\n",
       "</style>\n",
       "<table border=\"1\" class=\"dataframe\">\n",
       "  <thead>\n",
       "    <tr style=\"text-align: right;\">\n",
       "      <th></th>\n",
       "      <th>sepal-length</th>\n",
       "      <th>sepal-width</th>\n",
       "      <th>petal-length</th>\n",
       "      <th>petal-width</th>\n",
       "    </tr>\n",
       "  </thead>\n",
       "  <tbody>\n",
       "    <tr>\n",
       "      <th>count</th>\n",
       "      <td>150.000000</td>\n",
       "      <td>150.000000</td>\n",
       "      <td>150.000000</td>\n",
       "      <td>150.000000</td>\n",
       "    </tr>\n",
       "    <tr>\n",
       "      <th>mean</th>\n",
       "      <td>5.843333</td>\n",
       "      <td>3.054000</td>\n",
       "      <td>3.758667</td>\n",
       "      <td>1.198667</td>\n",
       "    </tr>\n",
       "    <tr>\n",
       "      <th>std</th>\n",
       "      <td>0.828066</td>\n",
       "      <td>0.433594</td>\n",
       "      <td>1.764420</td>\n",
       "      <td>0.763161</td>\n",
       "    </tr>\n",
       "    <tr>\n",
       "      <th>min</th>\n",
       "      <td>4.300000</td>\n",
       "      <td>2.000000</td>\n",
       "      <td>1.000000</td>\n",
       "      <td>0.100000</td>\n",
       "    </tr>\n",
       "    <tr>\n",
       "      <th>25%</th>\n",
       "      <td>5.100000</td>\n",
       "      <td>2.800000</td>\n",
       "      <td>1.600000</td>\n",
       "      <td>0.300000</td>\n",
       "    </tr>\n",
       "    <tr>\n",
       "      <th>50%</th>\n",
       "      <td>5.800000</td>\n",
       "      <td>3.000000</td>\n",
       "      <td>4.350000</td>\n",
       "      <td>1.300000</td>\n",
       "    </tr>\n",
       "    <tr>\n",
       "      <th>75%</th>\n",
       "      <td>6.400000</td>\n",
       "      <td>3.300000</td>\n",
       "      <td>5.100000</td>\n",
       "      <td>1.800000</td>\n",
       "    </tr>\n",
       "    <tr>\n",
       "      <th>max</th>\n",
       "      <td>7.900000</td>\n",
       "      <td>4.400000</td>\n",
       "      <td>6.900000</td>\n",
       "      <td>2.500000</td>\n",
       "    </tr>\n",
       "  </tbody>\n",
       "</table>\n",
       "</div>"
      ],
      "text/plain": [
       "       sepal-length  sepal-width  petal-length  petal-width\n",
       "count    150.000000   150.000000    150.000000   150.000000\n",
       "mean       5.843333     3.054000      3.758667     1.198667\n",
       "std        0.828066     0.433594      1.764420     0.763161\n",
       "min        4.300000     2.000000      1.000000     0.100000\n",
       "25%        5.100000     2.800000      1.600000     0.300000\n",
       "50%        5.800000     3.000000      4.350000     1.300000\n",
       "75%        6.400000     3.300000      5.100000     1.800000\n",
       "max        7.900000     4.400000      6.900000     2.500000"
      ]
     },
     "execution_count": 15,
     "metadata": {},
     "output_type": "execute_result"
    }
   ],
   "source": [
    "dataset.describe()"
   ]
  },
  {
   "cell_type": "code",
   "execution_count": 16,
   "id": "66f0bb7a",
   "metadata": {},
   "outputs": [
    {
     "data": {
      "text/plain": [
       "sepal-length    0\n",
       "sepal-width     0\n",
       "petal-length    0\n",
       "petal-width     0\n",
       "Class           0\n",
       "dtype: int64"
      ]
     },
     "execution_count": 16,
     "metadata": {},
     "output_type": "execute_result"
    }
   ],
   "source": [
    "dataset.isnull().sum()"
   ]
  },
  {
   "cell_type": "code",
   "execution_count": 17,
   "id": "60d74c5c",
   "metadata": {},
   "outputs": [],
   "source": [
    "X = dataset.iloc[:, :-1].values\n",
    "y = dataset.iloc[:, 4].values"
   ]
  },
  {
   "cell_type": "code",
   "execution_count": 18,
   "id": "c0ec9719",
   "metadata": {},
   "outputs": [],
   "source": [
    "from sklearn.model_selection import train_test_split\n",
    "\n",
    "X_train, X_test, y_train, y_test = train_test_split(X, y, test_size=0.20)\n",
    "\n",
    "from sklearn.preprocessing import StandardScaler\n",
    "\n",
    "scaler = StandardScaler()\n",
    "scaler.fit(X_train)\n",
    "\n",
    "X_train = scaler.transform(X_train)\n",
    "X_test = scaler.transform(X_test)"
   ]
  },
  {
   "cell_type": "code",
   "execution_count": 19,
   "id": "2db94ef2",
   "metadata": {},
   "outputs": [
    {
     "data": {
      "text/plain": [
       "array([[-0.13213893,  1.66696366, -1.11446869, -1.13658122],\n",
       "       [-0.37989942, -1.55941762,  0.06555698, -0.10136493],\n",
       "       [ 2.34546598, -1.09850601,  1.80749963,  1.45145951],\n",
       "       [-0.8754204 , -1.32896181, -0.38397661, -0.10136493],\n",
       "       [ 1.35442402,  0.28422883,  1.13319925,  1.45145951],\n",
       "       [-1.24706114, -0.17668278, -1.28304378, -1.39538529],\n",
       "       [ 0.11562156, -0.17668278,  0.29032378,  0.41624322],\n",
       "       [-1.12318089, -0.17668278, -1.28304378, -1.26598326],\n",
       "       [-0.25601917, -1.32896181,  0.12174868, -0.10136493],\n",
       "       [-0.99930065,  0.97559624, -1.17066038, -0.74837511],\n",
       "       [ 1.10666352, -0.17668278,  0.85224076,  1.45145951],\n",
       "       [-0.13213893, -0.6375944 ,  0.45889887,  0.15743914],\n",
       "       [ 0.73502279, -0.40713859,  0.34651547,  0.15743914],\n",
       "       [ 0.61114254, -0.40713859,  1.07700755,  0.80444933],\n",
       "       [-1.49482163,  0.28422883, -1.28304378, -1.26598326],\n",
       "       [-0.37989942, -1.55941762,  0.00936528, -0.23076696],\n",
       "       [ 0.23950181, -0.17668278,  0.62747397,  0.80444933],\n",
       "       [-0.75154015,  0.74514044, -1.28304378, -1.26598326],\n",
       "       [-0.25601917, -0.8680502 ,  0.29032378,  0.15743914],\n",
       "       [-0.75154015, -0.8680502 ,  0.12174868,  0.28684118],\n",
       "       [ 0.36338205, -1.09850601,  1.07700755,  0.28684118],\n",
       "       [ 2.34546598, -0.6375944 ,  1.69511624,  1.0632534 ],\n",
       "       [ 1.10666352,  0.05377302,  1.07700755,  1.58086154],\n",
       "       [-0.00825868, -1.09850601,  0.17794038,  0.02803711],\n",
       "       [-0.50377966,  1.89741947, -1.33923548, -1.00717918],\n",
       "       [-1.86646236, -0.17668278, -1.45161888, -1.39538529],\n",
       "       [-0.25601917, -0.17668278,  0.23413208,  0.15743914],\n",
       "       [-0.13213893,  3.0496985 , -1.22685208, -1.00717918],\n",
       "       [-1.74258212,  0.28422883, -1.33923548, -1.26598326],\n",
       "       [-0.13213893, -0.40713859,  0.29032378,  0.15743914],\n",
       "       [ 0.36338205, -0.17668278,  0.51509057,  0.28684118],\n",
       "       [ 0.85890303, -0.17668278,  1.18939095,  1.32205747],\n",
       "       [-0.75154015,  2.35833108, -1.22685208, -1.39538529],\n",
       "       [-0.50377966,  1.89741947, -1.11446869, -1.00717918],\n",
       "       [ 0.11562156,  0.28422883,  0.62747397,  0.80444933],\n",
       "       [ 1.23054377,  0.28422883,  1.24558265,  1.45145951],\n",
       "       [ 0.11562156, -0.17668278,  0.79604906,  0.80444933],\n",
       "       [ 0.73502279,  0.05377302,  1.02081585,  0.80444933],\n",
       "       [-1.74258212, -0.17668278, -1.33923548, -1.26598326],\n",
       "       [ 0.73502279, -0.6375944 ,  1.07700755,  1.19265543],\n",
       "       [ 1.10666352,  0.05377302,  0.57128227,  0.41624322],\n",
       "       [ 1.72606475,  0.28422883,  1.30177435,  0.80444933],\n",
       "       [ 0.4872623 , -0.40713859,  0.34651547,  0.15743914],\n",
       "       [ 1.35442402,  0.05377302,  0.79604906,  1.45145951],\n",
       "       [-1.49482163,  0.05377302, -1.22685208, -1.26598326],\n",
       "       [ 1.47830426,  0.28422883,  0.57128227,  0.28684118],\n",
       "       [-0.99930065, -0.17668278, -1.17066038, -1.26598326],\n",
       "       [ 2.34546598,  1.66696366,  1.69511624,  1.32205747],\n",
       "       [ 0.61114254, -1.32896181,  0.68366566,  0.41624322],\n",
       "       [-0.75154015,  0.97559624, -1.22685208, -1.26598326],\n",
       "       [ 1.97382524, -0.6375944 ,  1.35796605,  0.93385136],\n",
       "       [-1.12318089,  0.05377302, -1.22685208, -1.39538529],\n",
       "       [ 0.85890303, -0.17668278,  1.02081585,  0.80444933],\n",
       "       [ 0.85890303, -0.17668278,  0.85224076,  1.0632534 ],\n",
       "       [-0.13213893, -0.17668278,  0.29032378,  0.02803711],\n",
       "       [-0.00825868,  2.12787527, -1.39542718, -1.26598326],\n",
       "       [-1.12318089,  0.05377302, -1.22685208, -1.39538529],\n",
       "       [-1.49482163,  1.20605205, -1.50781057, -1.26598326],\n",
       "       [ 2.22158573, -0.17668278,  1.63892454,  1.19265543],\n",
       "       [-0.8754204 ,  0.74514044, -1.22685208, -1.26598326],\n",
       "       [-1.24706114, -0.17668278, -1.28304378, -1.13658122],\n",
       "       [ 0.85890303,  0.28422883,  0.79604906,  1.0632534 ],\n",
       "       [ 0.36338205, -0.17668278,  0.68366566,  0.80444933],\n",
       "       [-0.62765991,  1.43650786, -1.22685208, -1.26598326],\n",
       "       [-1.37094138,  0.28422883, -1.17066038, -1.26598326],\n",
       "       [ 1.10666352,  0.05377302,  0.40270717,  0.28684118],\n",
       "       [ 0.4872623 , -2.02032923,  0.45889887,  0.41624322],\n",
       "       [-1.12318089, -1.55941762, -0.21540151, -0.23076696],\n",
       "       [-1.49482163,  0.74514044, -1.28304378, -1.13658122],\n",
       "       [ 0.61114254,  0.74514044,  1.07700755,  1.58086154],\n",
       "       [-0.37989942, -1.32896181,  0.17794038,  0.15743914],\n",
       "       [ 0.85890303, -0.6375944 ,  0.51509057,  0.41624322],\n",
       "       [-1.24706114,  0.74514044, -1.00208529, -1.26598326],\n",
       "       [-0.50377966,  0.74514044, -1.11446869, -1.26598326],\n",
       "       [-0.50377966,  1.43650786, -1.22685208, -1.26598326],\n",
       "       [ 1.10666352,  0.51468463,  1.13319925,  1.19265543],\n",
       "       [-0.99930065, -1.78987343, -0.21540151, -0.23076696],\n",
       "       [-0.25601917, -0.17668278,  0.45889887,  0.41624322],\n",
       "       [-0.13213893, -1.32896181,  0.73985736,  1.0632534 ],\n",
       "       [-1.12318089, -1.32896181,  0.45889887,  0.67504729],\n",
       "       [ 1.849945  , -0.40713859,  1.47034944,  0.80444933],\n",
       "       [-1.61870187, -1.78987343, -1.33923548, -1.13658122],\n",
       "       [ 0.23950181,  0.74514044,  0.45889887,  0.54564525],\n",
       "       [ 1.10666352, -0.17668278,  0.73985736,  0.67504729],\n",
       "       [ 0.36338205, -0.6375944 ,  0.57128227,  0.02803711],\n",
       "       [-0.8754204 ,  1.66696366, -1.22685208, -1.13658122],\n",
       "       [ 0.73502279,  0.28422883,  0.90843246,  1.45145951],\n",
       "       [-0.00825868, -0.6375944 ,  0.79604906,  1.58086154],\n",
       "       [ 0.98278328, -0.40713859,  0.51509057,  0.15743914],\n",
       "       [ 1.60218451, -0.17668278,  1.24558265,  1.19265543],\n",
       "       [-0.25601917, -0.6375944 ,  0.68366566,  1.0632534 ],\n",
       "       [ 0.61114254, -0.8680502 ,  0.68366566,  0.80444933],\n",
       "       [-0.00825868, -0.8680502 ,  0.79604906,  0.93385136],\n",
       "       [ 0.61114254, -1.32896181,  0.73985736,  0.93385136],\n",
       "       [ 1.23054377, -0.17668278,  1.02081585,  1.19265543],\n",
       "       [-0.25601917, -0.40713859, -0.04682642,  0.15743914],\n",
       "       [-0.37989942,  2.58878689, -1.28304378, -1.26598326],\n",
       "       [-0.99930065,  0.97559624, -1.33923548, -1.13658122],\n",
       "       [-0.8754204 ,  0.97559624, -1.28304378, -1.26598326],\n",
       "       [ 0.36338205, -0.40713859,  0.57128227,  0.28684118],\n",
       "       [-0.99930065,  0.74514044, -1.17066038, -1.00717918],\n",
       "       [-0.99930065,  0.28422883, -1.39542718, -1.26598326],\n",
       "       [ 0.61114254,  0.51468463,  1.30177435,  1.71026358],\n",
       "       [ 0.4872623 , -0.6375944 ,  0.62747397,  0.80444933],\n",
       "       [-0.99930065,  1.20605205, -1.28304378, -1.26598326],\n",
       "       [-0.13213893, -0.6375944 ,  0.23413208,  0.15743914],\n",
       "       [ 0.98278328, -0.17668278,  0.40270717,  0.28684118],\n",
       "       [-0.13213893, -1.09850601, -0.10301811, -0.23076696],\n",
       "       [-0.00825868, -0.8680502 ,  0.23413208, -0.23076696],\n",
       "       [ 0.4872623 ,  0.74514044,  0.96462416,  1.45145951],\n",
       "       [-0.8754204 ,  0.97559624, -1.28304378, -1.13658122],\n",
       "       [-0.99930065,  0.51468463, -1.28304378, -1.26598326],\n",
       "       [-0.37989942, -1.78987343,  0.17794038,  0.15743914],\n",
       "       [-0.37989942,  0.97559624, -1.33923548, -1.26598326],\n",
       "       [ 1.72606475,  1.20605205,  1.35796605,  1.71026358],\n",
       "       [ 0.61114254, -0.6375944 ,  0.79604906,  0.41624322],\n",
       "       [-0.8754204 ,  1.43650786, -1.22685208, -1.00717918],\n",
       "       [ 0.23950181, -2.02032923,  0.17794038, -0.23076696],\n",
       "       [-1.37094138,  0.28422883, -1.33923548, -1.26598326],\n",
       "       [-0.8754204 ,  1.66696366, -1.00208529, -1.00717918]])"
      ]
     },
     "execution_count": 19,
     "metadata": {},
     "output_type": "execute_result"
    }
   ],
   "source": [
    "X_train"
   ]
  },
  {
   "cell_type": "code",
   "execution_count": 20,
   "id": "58f05894",
   "metadata": {},
   "outputs": [
    {
     "data": {
      "text/plain": [
       "array([[-0.8754204 ,  0.51468463, -1.11446869, -0.87777715],\n",
       "       [-0.37989942, -1.09850601,  0.40270717,  0.02803711],\n",
       "       [ 0.23950181, -0.8680502 ,  0.79604906,  0.54564525],\n",
       "       [-0.00825868, -0.8680502 ,  0.79604906,  0.93385136],\n",
       "       [ 0.23950181, -2.02032923,  0.73985736,  0.41624322],\n",
       "       [ 1.35442402,  0.05377302,  0.96462416,  1.19265543],\n",
       "       [-0.00825868, -0.8680502 ,  0.12174868,  0.02803711],\n",
       "       [ 1.35442402,  0.05377302,  0.68366566,  0.41624322],\n",
       "       [ 2.59322647,  1.66696366,  1.52654114,  1.0632534 ],\n",
       "       [-0.99930065, -2.48124084, -0.10301811, -0.23076696],\n",
       "       [ 0.73502279, -0.8680502 ,  0.90843246,  0.93385136],\n",
       "       [-0.50377966, -0.17668278,  0.45889887,  0.41624322],\n",
       "       [ 0.73502279, -0.6375944 ,  1.07700755,  1.32205747],\n",
       "       [ 1.10666352,  0.51468463,  1.13319925,  1.71026358],\n",
       "       [-1.24706114,  0.05377302, -1.17066038, -1.26598326],\n",
       "       [-1.24706114,  0.74514044, -1.17066038, -1.26598326],\n",
       "       [-0.99930065,  0.74514044, -1.22685208, -1.26598326],\n",
       "       [-0.50377966,  0.74514044, -1.22685208, -1.00717918],\n",
       "       [ 1.23054377, -0.6375944 ,  0.62747397,  0.28684118],\n",
       "       [ 0.61114254, -1.78987343,  0.40270717,  0.15743914],\n",
       "       [-0.8754204 ,  1.66696366, -1.17066038, -1.26598326],\n",
       "       [-1.74258212, -0.40713859, -1.28304378, -1.26598326],\n",
       "       [ 0.36338205, -0.6375944 ,  0.17794038,  0.15743914],\n",
       "       [ 0.61114254,  0.51468463,  0.57128227,  0.54564525],\n",
       "       [ 0.73502279,  0.28422883,  0.45889887,  0.41624322],\n",
       "       [ 0.23950181, -0.40713859,  0.45889887,  0.41624322],\n",
       "       [ 1.10666352, -1.32896181,  1.18939095,  0.80444933],\n",
       "       [ 1.72606475, -0.17668278,  1.18939095,  0.54564525],\n",
       "       [ 2.34546598, -0.17668278,  1.35796605,  1.45145951],\n",
       "       [-1.12318089,  0.05377302, -1.22685208, -1.39538529]])"
      ]
     },
     "execution_count": 20,
     "metadata": {},
     "output_type": "execute_result"
    }
   ],
   "source": [
    "X_test"
   ]
  },
  {
   "cell_type": "code",
   "execution_count": 21,
   "id": "b2cf35da",
   "metadata": {},
   "outputs": [
    {
     "data": {
      "text/html": [
       "<style>#sk-container-id-1 {color: black;}#sk-container-id-1 pre{padding: 0;}#sk-container-id-1 div.sk-toggleable {background-color: white;}#sk-container-id-1 label.sk-toggleable__label {cursor: pointer;display: block;width: 100%;margin-bottom: 0;padding: 0.3em;box-sizing: border-box;text-align: center;}#sk-container-id-1 label.sk-toggleable__label-arrow:before {content: \"▸\";float: left;margin-right: 0.25em;color: #696969;}#sk-container-id-1 label.sk-toggleable__label-arrow:hover:before {color: black;}#sk-container-id-1 div.sk-estimator:hover label.sk-toggleable__label-arrow:before {color: black;}#sk-container-id-1 div.sk-toggleable__content {max-height: 0;max-width: 0;overflow: hidden;text-align: left;background-color: #f0f8ff;}#sk-container-id-1 div.sk-toggleable__content pre {margin: 0.2em;color: black;border-radius: 0.25em;background-color: #f0f8ff;}#sk-container-id-1 input.sk-toggleable__control:checked~div.sk-toggleable__content {max-height: 200px;max-width: 100%;overflow: auto;}#sk-container-id-1 input.sk-toggleable__control:checked~label.sk-toggleable__label-arrow:before {content: \"▾\";}#sk-container-id-1 div.sk-estimator input.sk-toggleable__control:checked~label.sk-toggleable__label {background-color: #d4ebff;}#sk-container-id-1 div.sk-label input.sk-toggleable__control:checked~label.sk-toggleable__label {background-color: #d4ebff;}#sk-container-id-1 input.sk-hidden--visually {border: 0;clip: rect(1px 1px 1px 1px);clip: rect(1px, 1px, 1px, 1px);height: 1px;margin: -1px;overflow: hidden;padding: 0;position: absolute;width: 1px;}#sk-container-id-1 div.sk-estimator {font-family: monospace;background-color: #f0f8ff;border: 1px dotted black;border-radius: 0.25em;box-sizing: border-box;margin-bottom: 0.5em;}#sk-container-id-1 div.sk-estimator:hover {background-color: #d4ebff;}#sk-container-id-1 div.sk-parallel-item::after {content: \"\";width: 100%;border-bottom: 1px solid gray;flex-grow: 1;}#sk-container-id-1 div.sk-label:hover label.sk-toggleable__label {background-color: #d4ebff;}#sk-container-id-1 div.sk-serial::before {content: \"\";position: absolute;border-left: 1px solid gray;box-sizing: border-box;top: 0;bottom: 0;left: 50%;z-index: 0;}#sk-container-id-1 div.sk-serial {display: flex;flex-direction: column;align-items: center;background-color: white;padding-right: 0.2em;padding-left: 0.2em;position: relative;}#sk-container-id-1 div.sk-item {position: relative;z-index: 1;}#sk-container-id-1 div.sk-parallel {display: flex;align-items: stretch;justify-content: center;background-color: white;position: relative;}#sk-container-id-1 div.sk-item::before, #sk-container-id-1 div.sk-parallel-item::before {content: \"\";position: absolute;border-left: 1px solid gray;box-sizing: border-box;top: 0;bottom: 0;left: 50%;z-index: -1;}#sk-container-id-1 div.sk-parallel-item {display: flex;flex-direction: column;z-index: 1;position: relative;background-color: white;}#sk-container-id-1 div.sk-parallel-item:first-child::after {align-self: flex-end;width: 50%;}#sk-container-id-1 div.sk-parallel-item:last-child::after {align-self: flex-start;width: 50%;}#sk-container-id-1 div.sk-parallel-item:only-child::after {width: 0;}#sk-container-id-1 div.sk-dashed-wrapped {border: 1px dashed gray;margin: 0 0.4em 0.5em 0.4em;box-sizing: border-box;padding-bottom: 0.4em;background-color: white;}#sk-container-id-1 div.sk-label label {font-family: monospace;font-weight: bold;display: inline-block;line-height: 1.2em;}#sk-container-id-1 div.sk-label-container {text-align: center;}#sk-container-id-1 div.sk-container {/* jupyter's `normalize.less` sets `[hidden] { display: none; }` but bootstrap.min.css set `[hidden] { display: none !important; }` so we also need the `!important` here to be able to override the default hidden behavior on the sphinx rendered scikit-learn.org. See: https://github.com/scikit-learn/scikit-learn/issues/21755 */display: inline-block !important;position: relative;}#sk-container-id-1 div.sk-text-repr-fallback {display: none;}</style><div id=\"sk-container-id-1\" class=\"sk-top-container\"><div class=\"sk-text-repr-fallback\"><pre>KNeighborsClassifier()</pre><b>In a Jupyter environment, please rerun this cell to show the HTML representation or trust the notebook. <br />On GitHub, the HTML representation is unable to render, please try loading this page with nbviewer.org.</b></div><div class=\"sk-container\" hidden><div class=\"sk-item\"><div class=\"sk-estimator sk-toggleable\"><input class=\"sk-toggleable__control sk-hidden--visually\" id=\"sk-estimator-id-1\" type=\"checkbox\" checked><label for=\"sk-estimator-id-1\" class=\"sk-toggleable__label sk-toggleable__label-arrow\">KNeighborsClassifier</label><div class=\"sk-toggleable__content\"><pre>KNeighborsClassifier()</pre></div></div></div></div></div>"
      ],
      "text/plain": [
       "KNeighborsClassifier()"
      ]
     },
     "execution_count": 21,
     "metadata": {},
     "output_type": "execute_result"
    }
   ],
   "source": [
    "from sklearn.neighbors import KNeighborsClassifier\n",
    "\n",
    "classifier = KNeighborsClassifier(n_neighbors=5)\n",
    "classifier.fit(X_train, y_train)"
   ]
  },
  {
   "cell_type": "code",
   "execution_count": 22,
   "id": "a5f17821",
   "metadata": {},
   "outputs": [
    {
     "data": {
      "text/plain": [
       "array(['Iris-setosa', 'Iris-versicolor', 'Iris-virginica',\n",
       "       'Iris-virginica', 'Iris-versicolor', 'Iris-virginica',\n",
       "       'Iris-versicolor', 'Iris-versicolor', 'Iris-virginica',\n",
       "       'Iris-versicolor', 'Iris-virginica', 'Iris-versicolor',\n",
       "       'Iris-virginica', 'Iris-virginica', 'Iris-setosa', 'Iris-setosa',\n",
       "       'Iris-setosa', 'Iris-setosa', 'Iris-versicolor', 'Iris-versicolor',\n",
       "       'Iris-setosa', 'Iris-setosa', 'Iris-versicolor', 'Iris-versicolor',\n",
       "       'Iris-versicolor', 'Iris-versicolor', 'Iris-virginica',\n",
       "       'Iris-virginica', 'Iris-virginica', 'Iris-setosa'], dtype=object)"
      ]
     },
     "execution_count": 22,
     "metadata": {},
     "output_type": "execute_result"
    }
   ],
   "source": [
    "y_pred = classifier.predict(X_test)\n",
    "\n",
    "y_pred"
   ]
  },
  {
   "cell_type": "code",
   "execution_count": 23,
   "id": "d3701342",
   "metadata": {},
   "outputs": [
    {
     "name": "stdout",
     "output_type": "stream",
     "text": [
      "[[ 8  0  0]\n",
      " [ 0 11  1]\n",
      " [ 0  1  9]]\n",
      "\n",
      "*****************************************************************\n",
      "\n",
      "                 precision    recall  f1-score   support\n",
      "\n",
      "    Iris-setosa       1.00      1.00      1.00         8\n",
      "Iris-versicolor       0.92      0.92      0.92        12\n",
      " Iris-virginica       0.90      0.90      0.90        10\n",
      "\n",
      "       accuracy                           0.93        30\n",
      "      macro avg       0.94      0.94      0.94        30\n",
      "   weighted avg       0.93      0.93      0.93        30\n",
      "\n"
     ]
    }
   ],
   "source": [
    "from sklearn.metrics import classification_report, confusion_matrix\n",
    "\n",
    "print(confusion_matrix(y_test, y_pred))\n",
    "print()\n",
    "print(\"*****************************************************************\")\n",
    "print()\n",
    "print(classification_report(y_test, y_pred))"
   ]
  },
  {
   "cell_type": "code",
   "execution_count": 24,
   "id": "d3f73549",
   "metadata": {},
   "outputs": [],
   "source": [
    "error = []\n",
    "\n",
    "# Calculating error for K values between 1 and 40\n",
    "for i in range(1, 40):\n",
    "    knn = KNeighborsClassifier(n_neighbors=i)\n",
    "    knn.fit(X_train, y_train)\n",
    "    pred_i = knn.predict(X_test)\n",
    "    error.append(np.mean(pred_i != y_test))"
   ]
  },
  {
   "cell_type": "code",
   "execution_count": 25,
   "id": "f236e41d",
   "metadata": {},
   "outputs": [
    {
     "data": {
      "text/plain": [
       "Text(0, 0.5, 'Mean Error')"
      ]
     },
     "execution_count": 25,
     "metadata": {},
     "output_type": "execute_result"
    },
    {
     "data": {
      "image/png": "[encoded data removed]",
      "text/plain": [
       "<Figure size 1200x600 with 1 Axes>"
      ]
     },
     "metadata": {},
     "output_type": "display_data"
    }
   ],
   "source": [
    "plt.figure(figsize=(12, 6))\n",
    "plt.plot(range(1, 40), error, color='red', linestyle='dashed', marker='o',\n",
    "         markerfacecolor='blue', markersize=10)\n",
    "plt.title('Error Rate K Value')\n",
    "plt.xlabel('K Value')\n",
    "plt.ylabel('Mean Error')"
   ]
  },
  {
   "cell_type": "code",
   "execution_count": null,
   "id": "d4660364",
   "metadata": {},
   "outputs": [],
   "source": []
  }
 ],
 "metadata": {
  "kernelspec": {
   "display_name": "Python 3 (ipykernel)",
   "language": "python",
   "name": "python3"
  },
  "language_info": {
   "codemirror_mode": {
    "name": "ipython",
    "version": 3
   },
   "file_extension": ".py",
   "mimetype": "text/x-python",
   "name": "python",
   "nbconvert_exporter": "python",
   "pygments_lexer": "ipython3",
   "version": "3.11.4"
  }
 },
 "nbformat": 4,
 "nbformat_minor": 5
}

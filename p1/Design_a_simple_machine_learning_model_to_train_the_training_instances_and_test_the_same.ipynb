{
 "cells": [
  {
   "cell_type": "markdown",
   "metadata": {
    "id": "EllX1fODdssB"
   },
   "source": [
    "1. a. Design a simple machine learning model to train the training instances and test the same.\n",
    "\n",
    "\n"
   ]
  },
  {
   "cell_type": "code",
   "execution_count": 1,
   "metadata": {
    "id": "a4qUdODXdq9E"
   },
   "outputs": [],
   "source": [
    "# Generating the Training Set\n",
    "\n",
    "# python library to generate random numbers\n",
    "from random import randint\n",
    "\n",
    "# the limit within which random numbers are generated\n",
    "TRAIN_SET_LIMIT = 1000\n",
    "\n",
    "# to create exactly 100 data items\n",
    "TRAIN_SET_COUNT = 100\n",
    "\n",
    "# list that contains input and corresponding output\n",
    "TRAIN_INPUT = list()\n",
    "TRAIN_OUTPUT = list()\n"
   ]
  },
  {
   "cell_type": "code",
   "execution_count": 2,
   "metadata": {
    "id": "l1xkj8NieCtE"
   },
   "outputs": [],
   "source": [
    "# loop to create 100 data items with three columns each\n",
    "for i in range(TRAIN_SET_COUNT):\n",
    "\ta = randint(0, TRAIN_SET_LIMIT)\n",
    "\tb = randint(0, TRAIN_SET_LIMIT)\n",
    "\tc = randint(0, TRAIN_SET_LIMIT)\n",
    "\n",
    "# creating the output for each data item\n",
    "\top = a + (2 * b) + (3 * c)\n",
    "\tTRAIN_INPUT.append([a, b, c])\n",
    "\n",
    "# adding each output to output list\n",
    "\tTRAIN_OUTPUT.append(op)"
   ]
  },
  {
   "cell_type": "code",
   "execution_count": 3,
   "metadata": {
    "colab": {
     "base_uri": "https://localhost:8080/"
    },
    "id": "1iGhIt5UeHs5",
    "outputId": "db84037c-856b-4b21-852c-e2737a3a0a70"
   },
   "outputs": [
    {
     "data": {
      "text/plain": [
       "[3108, 2756, 2973, 2255, 1314, 4210, 4060, 762, 2659, 1924]"
      ]
     },
     "execution_count": 3,
     "metadata": {},
     "output_type": "execute_result"
    }
   ],
   "source": [
    "# printing first 10 records \n",
    "TRAIN_OUTPUT[:10]"
   ]
  },
  {
   "cell_type": "code",
   "execution_count": 4,
   "metadata": {
    "colab": {
     "base_uri": "https://localhost:8080/"
    },
    "id": "DNNn_FnaeIsz",
    "outputId": "d38281cb-eff3-48b0-be3b-e22da3a1986e"
   },
   "outputs": [
    {
     "data": {
      "text/plain": [
       "[[159, 381, 729],\n",
       " [633, 376, 457],\n",
       " [144, 459, 637],\n",
       " [141, 337, 480],\n",
       " [132, 276, 210],\n",
       " [896, 262, 930],\n",
       " [443, 373, 957],\n",
       " [214, 223, 34],\n",
       " [571, 843, 134],\n",
       " [305, 343, 311]]"
      ]
     },
     "execution_count": 4,
     "metadata": {},
     "output_type": "execute_result"
    }
   ],
   "source": [
    "# printing first 10 records\n",
    "TRAIN_INPUT[:10]"
   ]
  },
  {
   "cell_type": "markdown",
   "metadata": {
    "id": "E_RNnE_NfM--"
   },
   "source": [
    "The Model can be created in two steps:-\n",
    "\n",
    "1. Training the model with Training Data\n",
    "\n",
    "2. Testing the model with Test Data"
   ]
  },
  {
   "cell_type": "code",
   "execution_count": 8,
   "metadata": {
    "colab": {
     "base_uri": "https://localhost:8080/"
    },
    "id": "7ZPVBdsaedmO",
    "outputId": "2868f3a0-9007-4d90-f317-f13f235538bc"
   },
   "outputs": [
    {
     "data": {
      "text/plain": [
       "LinearRegression(n_jobs=-1)"
      ]
     },
     "execution_count": 8,
     "metadata": {},
     "output_type": "execute_result"
    }
   ],
   "source": [
    "# Training the Model\n",
    "# The data that was created using the above code is used to train the model\n",
    "\n",
    "# Sk-Learn contains the linear regression model\n",
    "from sklearn.linear_model import LinearRegression\n",
    "\n",
    "# Initialize the linear regression model\n",
    "predictor = LinearRegression(n_jobs =-1)\n",
    "\n",
    "# Fill the Model with the Data\n",
    "predictor.fit(X = TRAIN_INPUT, y = TRAIN_OUTPUT)\n"
   ]
  },
  {
   "cell_type": "markdown",
   "metadata": {
    "id": "9WOr-Xw4ffGl"
   },
   "source": [
    "Testing the Data\n",
    "\n",
    "The testing is done Manually. Testing can be done using some random data and testing if the model gives the correct result for the input data."
   ]
  },
  {
   "cell_type": "code",
   "execution_count": 9,
   "metadata": {
    "colab": {
     "base_uri": "https://localhost:8080/"
    },
    "id": "tLDpE3Rhfbcw",
    "outputId": "0ee29cd0-3dfd-4a93-e1bd-561567d616ca"
   },
   "outputs": [
    {
     "name": "stdout",
     "output_type": "stream",
     "text": [
      "Outcome : [140.]\n",
      "Coefficients : [1. 2. 3.]\n"
     ]
    }
   ],
   "source": [
    "# Random Test data\n",
    "X_TEST = [[ 10, 20, 30 ]]   #---> 10 + 20*2 + 30*3 = 140.\n",
    "\n",
    "# Predict the result of X_TEST which holds testing data\n",
    "outcome = predictor.predict(X = X_TEST)\n",
    "\n",
    "# Predict the coefficients\n",
    "coefficients = predictor.coef_\n",
    "\n",
    "# Print the result obtained for the test data\n",
    "print('Outcome : {}\\nCoefficients : {}'.format(outcome, coefficients))"
   ]
  },
  {
   "cell_type": "code",
   "execution_count": null,
   "metadata": {
    "id": "TfZw3b1yfkMP"
   },
   "outputs": [],
   "source": []
  }
 ],
 "metadata": {
  "colab": {
   "provenance": []
  },
  "kernelspec": {
   "display_name": "Python 3 (ipykernel)",
   "language": "python",
   "name": "python3"
  },
  "language_info": {
   "codemirror_mode": {
    "name": "ipython",
    "version": 3
   },
   "file_extension": ".py",
   "mimetype": "text/x-python",
   "name": "python",
   "nbconvert_exporter": "python",
   "pygments_lexer": "ipython3",
   "version": "3.11.4"
  }
 },
 "nbformat": 4,
 "nbformat_minor": 1
}
